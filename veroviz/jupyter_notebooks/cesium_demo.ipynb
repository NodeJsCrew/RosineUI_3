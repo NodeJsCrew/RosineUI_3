{
 "cells": [
  {
   "cell_type": "markdown",
   "metadata": {},
   "source": [
    "# Cesium Demo\n",
    "This notebook provides code for generating the Cesium demo that is included in the VeRoViz Cesium Viewer plugin.\n",
    "\n",
    "Before running the code in this notebook, you will need to:\n",
    "1. **Install Cesium**.  See https://veroviz.org/gettingstarted.html for instructions.\n",
    "2. **Install the VeRoViz Cesium Viewer Plugin**.  This may be downloaded from https://veroviz.org/downloads/veroviz_cesium_viewer.zip.  Simply extract this `.zip` archive into the `cesium` directory (which was created in Step 1 above).\n",
    "3. **Install the VeRoViz Python Package**.  See https://veroviz.org/gettingstarted.html for instructions.\n"
   ]
  },
  {
   "cell_type": "markdown",
   "metadata": {},
   "source": [
    "--- \n",
    "\n",
    "## Import Python Packages\n",
    "\n",
    "This notebook relies on the following packages:"
   ]
  },
  {
   "cell_type": "code",
   "execution_count": null,
   "metadata": {},
   "outputs": [],
   "source": [
    "import veroviz as vrv\n",
    "\n",
    "import os\n",
    "import pandas as pd"
   ]
  },
  {
   "cell_type": "markdown",
   "metadata": {},
   "source": [
    "--- \n",
    "\n",
    "## Check if a newer version of VeRoViz is available"
   ]
  },
  {
   "cell_type": "code",
   "execution_count": null,
   "metadata": {
    "scrolled": true
   },
   "outputs": [],
   "source": [
    "vrv.checkVersion()"
   ]
  },
  {
   "cell_type": "markdown",
   "metadata": {},
   "source": [
    "---\n",
    "## Define Parameters\n",
    "\n",
    "Here we'll define some common variables that will be referenced extensively below.  It's much easier to just edit these parameters in one place, instead of finding/replacing them througout the notebook."
   ]
  },
  {
   "cell_type": "markdown",
   "metadata": {},
   "source": [
    "#### Specify a data provider.\n",
    "- See https://veroviz.org/docs/dataproviders.html for options.\n",
    "- See https://veroviz.org/gettingstarted.html for instructions on defining system environment variables."
   ]
  },
  {
   "cell_type": "code",
   "execution_count": null,
   "metadata": {},
   "outputs": [],
   "source": [
    "DATA_PROVIDER = 'OSRM-online'\n",
    "DATA_PROVIDER_ARGS = {\n",
    "    'APIkey'       : '',\n",
    "    'databaseName' : None\n",
    "}"
   ]
  },
  {
   "cell_type": "markdown",
   "metadata": {},
   "source": [
    "#### Specify the location where Cesium is installed on your machine.\n",
    "- See https://veroviz.org/gettingstarted.html for instructions on installing Cesium and defining system environment variables."
   ]
  },
  {
   "cell_type": "code",
   "execution_count": null,
   "metadata": {},
   "outputs": [],
   "source": [
    "CESIUM_DIR = 'C:/Users/admin68/Desktop/Code/RosineUI_3'"
   ]
  },
  {
   "cell_type": "markdown",
   "metadata": {},
   "source": [
    "---\n",
    "## Create some Nodes\n",
    "In this demo we'll have a depot node and 3 customers.\n",
    "\n",
    "The nodes below were chosen from the Sketch website (https://veroviz.org/sketch.html).  Sketch's \"export\" feature was used to copy the node info into the cell below."
   ]
  },
  {
   "cell_type": "code",
   "execution_count": null,
   "metadata": {},
   "outputs": [],
   "source": [
    "# Nodes: \n",
    "# nodesArray = [ \n",
    "#     {'id': 0, 'lat': 43.001742, 'lon': -78.787034, 'altMeters': 0.0, 'nodeName': 'Depot', 'nodeType': 'depot', 'popupText': 'Depot', 'leafletIconPrefix': 'glyphicon', 'leafletIconType': 'home', 'leafletColor': 'red', 'leafletIconText': '0', 'cesiumIconType': 'pin', 'cesiumColor': 'red', 'cesiumIconText': '0', 'elevMeters': None},\n",
    "#     {'id': 1, 'lat': 43.015717, 'lon': -78.816851, 'altMeters': 0.0, 'nodeName': 'Cust1', 'nodeType': 'customer', 'popupText': 'Cust1', 'leafletIconPrefix': 'glyphicon', 'leafletIconType': 'star', 'leafletColor': 'green', 'leafletIconText': '1', 'cesiumIconType': 'pin', 'cesiumColor': 'green', 'cesiumIconText': '1', 'elevMeters': None},\n",
    "#     {'id': 2, 'lat': 43.031084, 'lon': -78.791655, 'altMeters': 0.0, 'nodeName': 'Cust2', 'nodeType': 'customer', 'popupText': 'Cust2', 'leafletIconPrefix': 'glyphicon', 'leafletIconType': 'star', 'leafletColor': 'green', 'leafletIconText': '2', 'cesiumIconType': 'pin', 'cesiumColor': 'green', 'cesiumIconText': '2', 'elevMeters': None},\n",
    "#     {'id': 3, 'lat': 43.010989, 'lon': -78.749357, 'altMeters': 0.0, 'nodeName': 'Cust3', 'nodeType': 'customer', 'popupText': 'Cust3', 'leafletIconPrefix': 'glyphicon', 'leafletIconType': 'star', 'leafletColor': 'green', 'leafletIconText': '3', 'cesiumIconType': 'pin', 'cesiumColor': 'green', 'cesiumIconText': '3', 'elevMeters': None},\n",
    "\n",
    "# ]\n",
    "# nodesDF = pd.DataFrame(nodesArray)\n",
    "# nodesDF\n",
    "# nodesArray = [ \n",
    "#     {'id': 0, 'lat': 30.528623850488067, 'lon': 104.01367200722407, 'altMeters': 0.0, 'nodeName': 'depot0', 'nodeType': 'depot', 'popupText': 'depot0', 'leafletIconPrefix': 'glyphicon', 'leafletIconType': 'info-sign', 'leafletColor': 'red', 'leafletIconText': '0', 'cesiumIconType': 'pin', 'cesiumColor': 'red', 'cesiumIconText': '0', 'elevMeters': None},\n",
    "#     {'id': 1, 'lat': 30.772822196057795, 'lon': 104.29709966925348, 'altMeters': 0.0, 'nodeName': 'depot2', 'nodeType': 'depot', 'popupText': 'depot2', 'leafletIconPrefix': 'glyphicon', 'leafletIconType': 'info-sign', 'leafletColor': 'red', 'leafletIconText': '1', 'cesiumIconType': 'pin', 'cesiumColor': 'red', 'cesiumIconText': '1', 'elevMeters': None},\n",
    "#     {'id': 2, 'lat': 30.795523030613346, 'lon': 104.28680266838704, 'altMeters': 0.0, 'nodeName': '18', 'nodeType': 'depot', 'popupText': '18', 'leafletIconPrefix': 'glyphicon', 'leafletIconType': 'info-sign', 'leafletColor': 'blue', 'leafletIconText': '2', 'cesiumIconType': 'pin', 'cesiumColor': 'blue', 'cesiumIconText': '2', 'elevMeters': None},\n",
    "#     {'id': 3, 'lat': 30.510865118701325, 'lon': 104.04023129244153, 'altMeters': 0.0, 'nodeName': '10', 'nodeType': 'depot', 'popupText': '10', 'leafletIconPrefix': 'glyphicon', 'leafletIconType': 'info-sign', 'leafletColor': 'blue', 'leafletIconText': '3', 'cesiumIconType': 'pin', 'cesiumColor': 'blue', 'cesiumIconText': '3', 'elevMeters': None},\n",
    "#     {'id': 4, 'lat': 30.50560049589363, 'lon': 103.99120843975204, 'altMeters': 0.0, 'nodeName': '11', 'nodeType': 'depot', 'popupText': '11', 'leafletIconPrefix': 'glyphicon', 'leafletIconType': 'info-sign', 'leafletColor': 'blue', 'leafletIconText': '4', 'cesiumIconType': 'pin', 'cesiumColor': 'blue', 'cesiumIconText': '4', 'elevMeters': None},\n",
    "#     {'id': 5, 'lat': 30.562351886277686, 'lon': 103.89578956505639, 'altMeters': 0.0, 'nodeName': '15', 'nodeType': 'depot', 'popupText': '15', 'leafletIconPrefix': 'glyphicon', 'leafletIconType': 'info-sign', 'leafletColor': 'blue', 'leafletIconText': '5', 'cesiumIconType': 'pin', 'cesiumColor': 'blue', 'cesiumIconText': '5', 'elevMeters': None},\n",
    "#     {'id': 6, 'lat': 30.617298160384998, 'lon': 104.01386184165821, 'altMeters': 0.0, 'nodeName': 'depot1', 'nodeType': 'depot', 'popupText': 'depot1', 'leafletIconPrefix': 'glyphicon', 'leafletIconType': 'info-sign', 'leafletColor': 'red', 'leafletIconText': '6', 'cesiumIconType': 'pin', 'cesiumColor': 'red', 'cesiumIconText': '6', 'elevMeters': None},\n",
    "#     {'id': 7, 'lat': 30.638559320388676, 'lon': 104.02896410959563, 'altMeters': 0.0, 'nodeName': '12', 'nodeType': 'depot', 'popupText': '12', 'leafletIconPrefix': 'glyphicon', 'leafletIconType': 'info-sign', 'leafletColor': 'blue', 'leafletIconText': '7', 'cesiumIconType': 'pin', 'cesiumColor': 'blue', 'cesiumIconText': '7', 'elevMeters': None},\n",
    "#     {'id': 8, 'lat': 30.641511889815078, 'lon': 103.99395430664974, 'altMeters': 0.0, 'nodeName': '13', 'nodeType': 'depot', 'popupText': '13', 'leafletIconPrefix': 'glyphicon', 'leafletIconType': 'info-sign', 'leafletColor': 'blue', 'leafletIconText': '8', 'cesiumIconType': 'pin', 'cesiumColor': 'blue', 'cesiumIconText': '8', 'elevMeters': None},\n",
    "#     {'id': 9, 'lat': 30.551713526455373, 'lon': 104.12712885118904, 'altMeters': 0.0, 'nodeName': '14', 'nodeType': 'depot', 'popupText': '14', 'leafletIconPrefix': 'glyphicon', 'leafletIconType': 'info-sign', 'leafletColor': 'blue', 'leafletIconText': '9', 'cesiumIconType': 'pin', 'cesiumColor': 'blue', 'cesiumIconText': '9', 'elevMeters': None},\n",
    "#     {'id': 10, 'lat': 30.581852516657573, 'lon': 104.12712885118904, 'altMeters': 0.0, 'nodeName': '16', 'nodeType': 'depot', 'popupText': '16', 'leafletIconPrefix': 'glyphicon', 'leafletIconType': 'info-sign', 'leafletColor': 'blue', 'leafletIconText': '10', 'cesiumIconType': 'pin', 'cesiumColor': 'blue', 'cesiumIconText': '10', 'elevMeters': None},\n",
    "#     {'id': 11, 'lat': 30.554077707194395, 'lon': 104.13193411826005, 'altMeters': 0.0, 'nodeName': '17', 'nodeType': 'depot', 'popupText': '17', 'leafletIconPrefix': 'glyphicon', 'leafletIconType': 'info-sign', 'leafletColor': 'blue', 'leafletIconText': '11', 'cesiumIconType': 'pin', 'cesiumColor': 'blue', 'cesiumIconText': '11', 'elevMeters': None},\n",
    "# ]\n",
    "nodesArray = [ \n",
    "    {'id': 0, 'lat': 30.528623850488067, 'lon': 104.01367200722407, 'altMeters': 0.0, 'nodeName': 'depot0', 'nodeType': 'depot', 'popupText': 'depot0', 'leafletIconPrefix': 'glyphicon', 'leafletIconType': 'home', 'leafletColor': 'red', 'leafletIconText': '0', 'cesiumIconType': 'pin', 'cesiumColor': 'red', 'cesiumIconText': '0', 'elevMeters': None},\n",
    "    {'id': 2, 'lat': 30.772822196057795, 'lon': 104.29709966925348, 'altMeters': 0.0, 'nodeName': 'depot2', 'nodeType': 'depot', 'popupText': 'depot2', 'leafletIconPrefix': 'glyphicon', 'leafletIconType': 'home', 'leafletColor': 'red', 'leafletIconText': '1', 'cesiumIconType': 'pin', 'cesiumColor': 'red', 'cesiumIconText': '2', 'elevMeters': None},\n",
    "    {'id': 18, 'lat': 30.795523030613346, 'lon': 104.28680266838704, 'altMeters': 0.0, 'nodeName': '18', 'nodeType': 'customer', 'popupText': '18', 'leafletIconPrefix': 'glyphicon', 'leafletIconType': 'star', 'leafletColor': 'blue', 'leafletIconText': '2', 'cesiumIconType': 'pin', 'cesiumColor': 'blue', 'cesiumIconText': '18', 'elevMeters': None},\n",
    "    {'id': 10, 'lat': 30.510865118701325, 'lon': 104.04023129244153, 'altMeters': 0.0, 'nodeName': '10', 'nodeType': 'customer', 'popupText': '10', 'leafletIconPrefix': 'glyphicon', 'leafletIconType': 'info-sign', 'leafletColor': 'blue', 'leafletIconText': '3', 'cesiumIconType': 'pin', 'cesiumColor': 'blue', 'cesiumIconText': '10', 'elevMeters': None},\n",
    "    {'id': 11, 'lat': 30.50560049589363, 'lon': 103.99120843975204, 'altMeters': 0.0, 'nodeName': '11', 'nodeType': 'customer', 'popupText': '11', 'leafletIconPrefix': 'glyphicon', 'leafletIconType': 'info-sign', 'leafletColor': 'blue', 'leafletIconText': '4', 'cesiumIconType': 'pin', 'cesiumColor': 'blue', 'cesiumIconText': '11', 'elevMeters': None},\n",
    "    {'id': 15, 'lat': 30.562351886277686, 'lon': 103.89578956505639, 'altMeters': 0.0, 'nodeName': '15', 'nodeType': 'customer', 'popupText': '15', 'leafletIconPrefix': 'glyphicon', 'leafletIconType': 'info-sign', 'leafletColor': 'blue', 'leafletIconText': '5', 'cesiumIconType': 'pin', 'cesiumColor': 'blue', 'cesiumIconText': '15', 'elevMeters': None},\n",
    "    {'id': 1, 'lat': 30.617298160384998, 'lon': 104.01386184165821, 'altMeters': 0.0, 'nodeName': 'depot1', 'nodeType': 'depot', 'popupText': 'depot1', 'leafletIconPrefix': 'glyphicon', 'leafletIconType': 'home', 'leafletColor': 'red', 'leafletIconText': '6', 'cesiumIconType': 'pin', 'cesiumColor': 'red', 'cesiumIconText': '1', 'elevMeters': None},\n",
    "    {'id': 12, 'lat': 30.638559320388676, 'lon': 104.02896410959563, 'altMeters': 0.0, 'nodeName': '12', 'nodeType': 'customer', 'popupText': '12', 'leafletIconPrefix': 'glyphicon', 'leafletIconType': 'info-sign', 'leafletColor': 'blue', 'leafletIconText': '7', 'cesiumIconType': 'pin', 'cesiumColor': 'blue', 'cesiumIconText': '12', 'elevMeters': None},\n",
    "    {'id': 13, 'lat': 30.641511889815078, 'lon': 103.99395430664974, 'altMeters': 0.0, 'nodeName': '13', 'nodeType': 'customer', 'popupText': '13', 'leafletIconPrefix': 'glyphicon', 'leafletIconType': 'info-sign', 'leafletColor': 'blue', 'leafletIconText': '8', 'cesiumIconType': 'pin', 'cesiumColor': 'blue', 'cesiumIconText': '13', 'elevMeters': None},\n",
    "    {'id': 14, 'lat': 30.551713526455373, 'lon': 104.12712885118904, 'altMeters': 0.0, 'nodeName': '14', 'nodeType': 'customer', 'popupText': '14', 'leafletIconPrefix': 'glyphicon', 'leafletIconType': 'info-sign', 'leafletColor': 'blue', 'leafletIconText': '9', 'cesiumIconType': 'pin', 'cesiumColor': 'blue', 'cesiumIconText': '14', 'elevMeters': None},\n",
    "    {'id': 16, 'lat': 30.581852516657573, 'lon': 104.12712885118904, 'altMeters': 0.0, 'nodeName': '16', 'nodeType': 'customer', 'popupText': '16', 'leafletIconPrefix': 'glyphicon', 'leafletIconType': 'info-sign', 'leafletColor': 'blue', 'leafletIconText': '10', 'cesiumIconType': 'pin', 'cesiumColor': 'blue', 'cesiumIconText': '16', 'elevMeters': None},\n",
    "    {'id': 17, 'lat': 30.554077707194395, 'lon': 104.13193411826005, 'altMeters': 0.0, 'nodeName': '17', 'nodeType': 'customer', 'popupText': '17', 'leafletIconPrefix': 'glyphicon', 'leafletIconType': 'info-sign', 'leafletColor': 'blue', 'leafletIconText': '11', 'cesiumIconType': 'pin', 'cesiumColor': 'blue', 'cesiumIconText': '17', 'elevMeters': None},\n",
    "]\n",
    "nodesDF = pd.DataFrame(nodesArray)\n",
    "\n"
   ]
  },
  {
   "cell_type": "markdown",
   "metadata": {},
   "source": [
    "---\n",
    "## Generate \"Assignments\" for our Vehicles\n",
    "We don't have a solver, so we'll manually create routes (including arrival/departure times) for our vehicles.\n",
    "\n",
    "In this demo, there will be 4 ground vehicles (a red car, a blue car, a green car, and a delivery truck) and 1 drone."
   ]
  },
  {
   "cell_type": "code",
   "execution_count": null,
   "metadata": {},
   "outputs": [],
   "source": [
    "# Initialize an empty \"assignments\" dataframe.  \n",
    "# We'll append to this for each vehicle.\n",
    "assignmentsDF = vrv.initDataframe('assignments')"
   ]
  },
  {
   "cell_type": "markdown",
   "metadata": {},
   "source": [
    "### Red Car\n",
    "- Clockwise path;\n",
    "- Follows road network;\n",
    "- Doesn't stop at any location."
   ]
  },
  {
   "cell_type": "code",
   "execution_count": null,
   "metadata": {},
   "outputs": [],
   "source": [
    "# red car\n",
    "# clockwise, following road, no stopping\n",
    "# red_route = [0,3,4,0,11,9,0,5,10,0]\n",
    "red_route = [0,10,11,0,17,14,0,15,16,0]\n",
    "\n",
    "assignmentsDF = vrv.createAssignmentsFromNodeSeq2D(initAssignments = assignmentsDF,\n",
    "                                                   nodeSeq = red_route,\n",
    "                                                   nodes = nodesDF,\n",
    "                                                   routeType = 'fastest',\n",
    "                                                   objectID = 'Red Car',\n",
    "                                                   modelFile = 'veroviz/models/car_red.gltf',\n",
    "                                                   leafletColor = 'red',\n",
    "                                                   cesiumColor  = 'red',\n",
    "                                                   dataProvider     = DATA_PROVIDER,\n",
    "                                                   dataProviderArgs = DATA_PROVIDER_ARGS)"
   ]
  },
  {
   "cell_type": "code",
   "execution_count": null,
   "metadata": {},
   "outputs": [],
   "source": [
    "# Show the first 5 rows of the assignmentsDF dataframe:\n",
    "assignmentsDF.head()"
   ]
  },
  {
   "cell_type": "markdown",
   "metadata": {},
   "source": [
    "#### (Optional) Create a map of what we've created thus far.\n",
    "- See https://veroviz.org/docs/veroviz.createLeaflet.html#veroviz.createLeaflet.createLeaflet for more options"
   ]
  },
  {
   "cell_type": "code",
   "execution_count": null,
   "metadata": {
    "scrolled": true
   },
   "outputs": [],
   "source": [
    "vrv.createLeaflet(nodes = nodesDF, \n",
    "                  arcs  = assignmentsDF)"
   ]
  },
  {
   "cell_type": "markdown",
   "metadata": {},
   "source": [
    "### Blue Car\n",
    "- Counterclockwise path;\n",
    "- Follows road network;\n",
    "- Doesn't stop at any location."
   ]
  },
  {
   "cell_type": "code",
   "execution_count": null,
   "metadata": {},
   "outputs": [],
   "source": [
    "# blue car\n",
    "# counterclockwise, following road, no stopping\n",
    "# blue_route = [6,7,8,6]\n",
    "blue_route = [1,12,13,1]\n",
    "\n",
    "assignmentsDF = vrv.createAssignmentsFromNodeSeq2D(initAssignments  = assignmentsDF,\n",
    "                                                   nodeSeq          = blue_route,\n",
    "                                                   nodes            = nodesDF,\n",
    "                                                   routeType        = 'fastest',\n",
    "                                                   objectID         = 'Blue Car',\n",
    "                                                   modelFile        = 'veroviz/models/car_blue.gltf',\n",
    "                                                   leafletColor     = 'blue',\n",
    "                                                   cesiumColor      = 'blue',\n",
    "                                                   dataProvider     = DATA_PROVIDER,\n",
    "                                                   dataProviderArgs = DATA_PROVIDER_ARGS)"
   ]
  },
  {
   "cell_type": "code",
   "execution_count": null,
   "metadata": {
    "scrolled": true
   },
   "outputs": [],
   "source": [
    "# We've now added the blue car's assignments to our dataframe.\n",
    "# We'll show just the last 5 rows of this dataframe:\n",
    "assignmentsDF.tail()"
   ]
  },
  {
   "cell_type": "markdown",
   "metadata": {},
   "source": [
    "### Green Car\n",
    "- Clockwise path;\n",
    "- Does **not** follow road network (Euclidean travel);\n",
    "- Doesn't stop at any location."
   ]
  },
  {
   "cell_type": "code",
   "execution_count": null,
   "metadata": {},
   "outputs": [],
   "source": [
    "# green car\n",
    "# clockwise, Euclidean, no stopping\n",
    "# green_route = [1,2,1]\n",
    "green_route = [2,18,2]\n",
    "\n",
    "assignmentsDF = vrv.createAssignmentsFromNodeSeq2D(initAssignments  = assignmentsDF,\n",
    "                                                   nodeSeq          = green_route,\n",
    "                                                   nodes            = nodesDF,\n",
    "                                                   routeType        = 'euclidean2D',\n",
    "                                                   speedMPS         = 25,\n",
    "                                                   objectID         = 'Green Car',\n",
    "                                                   modelFile        = 'veroviz/models/car_green.gltf',\n",
    "                                                   leafletColor     = 'green',\n",
    "                                                   cesiumColor      = 'green')"
   ]
  },
  {
   "cell_type": "code",
   "execution_count": null,
   "metadata": {
    "scrolled": true
   },
   "outputs": [],
   "source": [
    "# Our assignments dataframe now includes red, blue, and green cars.\n",
    "# Here are the last 5 rows:\n",
    "assignmentsDF.tail()"
   ]
  },
  {
   "cell_type": "markdown",
   "metadata": {},
   "source": [
    "### Delivery Truck\n",
    "- Clockwise path around the \"lower triangle\" of nodes;\n",
    "- Follows the road network;\n",
    "- Starts 30-seconds after the cars;\n",
    "- Stops for 30 seconds at customer nodes to deliver blue packages."
   ]
  },
  {
   "cell_type": "code",
   "execution_count": null,
   "metadata": {},
   "outputs": [],
   "source": [
    "# # truck\n",
    "# # lower triangle, following road, stopping to deliver blue packages\n",
    "\n",
    "# truck_route = [0, 1, 3, 0]\n",
    "\n",
    "# myObjectID = 'Truck'\n",
    "# myModel    = 'veroviz/models/ub_truck.gltf'\n",
    "# myColor    = 'darkblue'\n",
    "# myArcStyle = 'dashed'\n",
    "\n",
    "# startTime = 30.0   # We'll delay the truck to let cars get started first.\n",
    "# odID = 0\n",
    "# truckPkgID = 0\n",
    "\n",
    "# for i in range(0, len(truck_route)-1):\n",
    "#     startNode = truck_route[i]\n",
    "#     endNode   = truck_route[i+1]\n",
    "    \n",
    "#     # Update the assignments associated with this arc\n",
    "#     [assignmentsDF, endTimeSec] = vrv.addAssignment2D(\n",
    "#         initAssignments  = assignmentsDF,\n",
    "#         odID             = odID,\n",
    "#         objectID         = myObjectID, \n",
    "#         modelFile        = myModel,\n",
    "#         startLoc         = list(nodesDF[nodesDF['id'] == startNode][['lat', 'lon']].values[0]),\n",
    "#         endLoc           = list(nodesDF[nodesDF['id'] == endNode][['lat', 'lon']].values[0]),\n",
    "#         startTimeSec     = startTime,\n",
    "#         routeType        = 'fastest',\n",
    "#         leafletColor     = myColor, \n",
    "#         leafletStyle     = myArcStyle, \n",
    "#         cesiumColor      = myColor, \n",
    "#         cesiumStyle      = myArcStyle, \n",
    "#         dataProvider     = DATA_PROVIDER,\n",
    "#         dataProviderArgs = DATA_PROVIDER_ARGS) \n",
    "        \n",
    "#     odID += 1\n",
    "    \n",
    "#     # Update the time\n",
    "#     startTime = endTimeSec\n",
    "    \n",
    "#     # Add loitering for service\n",
    "#     assignmentsDF = vrv.addStaticAssignment(\n",
    "#         initAssignments = assignmentsDF, \n",
    "#         odID            = odID, \n",
    "#         objectID        = myObjectID, \n",
    "#         modelFile       = myModel, \n",
    "#         loc             = list(nodesDF[nodesDF['id'] == endNode][['lat', 'lon']].values[0]),\n",
    "#         startTimeSec    = startTime,\n",
    "#         endTimeSec      = startTime + 30)\n",
    "        \n",
    "#     odID += 1\n",
    "    \n",
    "#     # Update the time again\n",
    "#     startTime = startTime + 30\n",
    "\n",
    "#     # Add a package at all non-depot nodes:\n",
    "#     if (endNode != 0):\n",
    "#         truckPkgID += 1\n",
    "#         assignmentsDF = vrv.addStaticAssignment(\n",
    "#             initAssignments = assignmentsDF, \n",
    "#             odID            = 0, \n",
    "#             objectID        = 'truck package %d' % (truckPkgID),\n",
    "#             modelFile       = 'veroviz/models/box_blue.gltf', \n",
    "#             loc             = list(nodesDF[nodesDF['id'] == endNode][['lat', 'lon']].values[0]),\n",
    "#             startTimeSec    = startTime,\n",
    "#             endTimeSec      = -1)"
   ]
  },
  {
   "cell_type": "code",
   "execution_count": null,
   "metadata": {},
   "outputs": [],
   "source": [
    "# Our assignments dataframe now includes 3 cars, a truck, and some blue packages:\n",
    "assignmentsDF.tail()"
   ]
  },
  {
   "cell_type": "markdown",
   "metadata": {},
   "source": [
    "### Delivery Drone\n",
    "- Flies north/south;\n",
    "- Stops at a customer node to deliver a yellow package."
   ]
  },
  {
   "cell_type": "code",
   "execution_count": null,
   "metadata": {},
   "outputs": [],
   "source": [
    "# UAV\n",
    "# # north/south, flying, stops to deliver one package\n",
    "\n",
    "# uav_route = [0, 2, 0]\n",
    "\n",
    "# myObjectID = 'UAV'\n",
    "# myColor    = 'orange'\n",
    "# myArcStyle = 'dotted'\n",
    "\n",
    "# startTime = 60.0   # We'll delay the UAV to let cars and truck get started first.\n",
    "# odID = 0\n",
    "# uavPkgID = 0\n",
    "\n",
    "# for i in list(range(0, len(uav_route)-1)):\n",
    "#     startNode = uav_route[i]\n",
    "#     endNode   = uav_route[i+1]\n",
    "    \n",
    "#     [startLat, startLon] = list(nodesDF[nodesDF['id'] == startNode][['lat', 'lon']].values[0])\n",
    "#     [endLat, endLon]     = list(nodesDF[nodesDF['id'] == endNode][['lat', 'lon']].values[0])\n",
    "\n",
    "#     if (startNode == 0):\n",
    "#         # UAV is leaving depot with a package\n",
    "#         myModel        = 'veroviz/models/drone_package.gltf'\n",
    "#     else:\n",
    "#         # UAV is returning empty\n",
    "#         myModel        = 'veroviz/models/drone.gltf'\n",
    "      \n",
    "#     # Update the assignments associated with this arc\n",
    "#     [assignmentsDF, endTimeSec] = vrv.addAssignment3D(\n",
    "#         initAssignments  = assignmentsDF,\n",
    "#         odID             = odID,\n",
    "#         objectID         = myObjectID, \n",
    "#         modelFile        = myModel,\n",
    "#         startLoc         = [startLat, startLon],\n",
    "#         endLoc           = [endLat, endLon],\n",
    "#         startTimeSec     = startTime,\n",
    "#         takeoffSpeedMPS    = 5,\n",
    "#         cruiseSpeedMPS     = 20,\n",
    "#         landSpeedMPS       = 3,\n",
    "#         cruiseAltMetersAGL = 100,\n",
    "#         routeType          = 'square',\n",
    "#         # climbRateMPS       =None,            # Not needed for square profile\n",
    "#         # descentRateMPS     =None,            # Not needed for square profile\n",
    "#         # earliestLandTime   =-1,              # Not restricted\n",
    "#         # loiterPosition     ='arrivalAtAlt',  # Not loitering\n",
    "#         leafletColor     = myColor, \n",
    "#         leafletStyle     = myArcStyle, \n",
    "#         cesiumColor      = myColor, \n",
    "#         cesiumStyle      = myArcStyle) \n",
    "\n",
    "#     odID += 1\n",
    "    \n",
    "#     # Update the time\n",
    "#     startTime = endTimeSec\n",
    "\n",
    "#     # Add loitering for service\n",
    "#     assignmentsDF = vrv.addStaticAssignment(\n",
    "#         initAssignments = assignmentsDF, \n",
    "#         odID            = odID, \n",
    "#         objectID        = myObjectID, \n",
    "#         modelFile       = myModel,\n",
    "#         loc             = [endLat, endLon],\n",
    "#         startTimeSec    = startTime,\n",
    "#         endTimeSec      = startTime + 30)\n",
    "\n",
    "#     odID += 1\n",
    "    \n",
    "#     # Update the time again\n",
    "#     startTime = startTime + 30\n",
    "\n",
    "#     # Add a package at a non-depot node:\n",
    "#     if (endNode != 0):\n",
    "#         uavPkgID += 1\n",
    "#         assignmentsDF = vrv.addStaticAssignment(\n",
    "#             initAssignments = assignmentsDF, \n",
    "#             odID            = 0, \n",
    "#             objectID        = 'uav package %d' % (uavPkgID), \n",
    "#             modelFile       = 'veroviz/models/box_yellow.gltf',\n",
    "#             loc             = [endLat, endLon],\n",
    "#             startTimeSec    = startTime,\n",
    "#             endTimeSec      = -1)"
   ]
  },
  {
   "cell_type": "code",
   "execution_count": null,
   "metadata": {
    "scrolled": true
   },
   "outputs": [],
   "source": [
    "# Our final assignments dataframe.\n",
    "# It includes 3 cars, a truck, a drone, blue packages, and a yellow package.\n",
    "assignmentsDF.tail()"
   ]
  },
  {
   "cell_type": "markdown",
   "metadata": {},
   "source": [
    "---\n",
    "## Create a Leaflet Map\n",
    "We've added all of our assignments.  Let's see a map."
   ]
  },
  {
   "cell_type": "code",
   "execution_count": null,
   "metadata": {
    "scrolled": true
   },
   "outputs": [],
   "source": [
    "vrv.createLeaflet(nodes = nodesDF,\n",
    "                  arcs  = assignmentsDF)"
   ]
  },
  {
   "cell_type": "markdown",
   "metadata": {},
   "source": [
    "---\n",
    "## Generate Cesium\n",
    "\n",
    "We will now generate the files necessary to view our solution on a 3D map.\n",
    "\n",
    "- The `createCesium()` function will save these files in a sub-directory where the Cesium application is installed on your machine.\n",
    "- For example, suppose that `cesiumDir = '/home/user/cesium'`.  If `problemDir = 'veroviz/demo`, then all files will be saved within `/home/user/cesium/veroviz/demo`.  \n",
    "- See https://veroviz.org/docs/veroviz.createCesium.html for details."
   ]
  },
  {
   "cell_type": "code",
   "execution_count": null,
   "metadata": {
    "scrolled": false
   },
   "outputs": [],
   "source": [
    "vrv.createCesium(assignments = assignmentsDF, \n",
    "                 nodes       = nodesDF, \n",
    "                 startDate   = None, \n",
    "                 startTime   = '08:00:00', \n",
    "                 postBuffer  = 30, \n",
    "                 cesiumDir   = CESIUM_DIR,        \n",
    "                 problemDir  = 'veroviz/demo')      # <-- a sub-directory of cesiumDir    "
   ]
  },
  {
   "cell_type": "markdown",
   "metadata": {},
   "source": [
    "---\n",
    "## We are now ready to view our solution.\n",
    "\n",
    "1. Make sure you have a 'node.js' server running:\n",
    "    1. Open a terminal window.\n",
    "    2. Change directories to the location where Cesium is installed.  For example, `cd ~/cesium`.\n",
    "    3. Start a 'node.js' server:  `node server.cjs`\n",
    "2. Visit http://localhost:8080/veroviz in your web browser.\n",
    "3. Use the top left icon to select `;veroviz;demo.vrv`, which will be located in the `veroviz/demo` subdirectory of Cesium."
   ]
  }
 ],
 "metadata": {
  "interpreter": {
   "hash": "ad2bdc8ecc057115af97d19610ffacc2b4e99fae6737bb82f5d7fb13d2f2c186"
  },
  "kernelspec": {
   "display_name": "Python 3.8.8 ('base')",
   "language": "python",
   "name": "python3"
  },
  "language_info": {
   "codemirror_mode": {
    "name": "ipython",
    "version": 3
   },
   "file_extension": ".py",
   "mimetype": "text/x-python",
   "name": "python",
   "nbconvert_exporter": "python",
   "pygments_lexer": "ipython3",
   "version": "3.8.8"
  }
 },
 "nbformat": 4,
 "nbformat_minor": 2
}
